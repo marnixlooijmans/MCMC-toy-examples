{
 "cells": [
  {
   "cell_type": "code",
   "execution_count": 1,
   "metadata": {},
   "outputs": [],
   "source": [
    "import numpy as np\n",
    "from sklearn.datasets import make_spd_matrix\n",
    "import matplotlib.pyplot as plt\n",
    "%matplotlib inline\n",
    "import zeus"
   ]
  },
  {
   "cell_type": "code",
   "execution_count": 12,
   "metadata": {},
   "outputs": [
    {
     "data": {
      "image/png": "[encoded data removed]",
      "text/plain": [
       "<Figure size 432x288 with 2 Axes>"
      ]
     },
     "metadata": {
      "needs_background": "light"
     },
     "output_type": "display_data"
    }
   ],
   "source": [
    "ndim = 10\n",
    "nwalkers = 30\n",
    "nsteps= 5000\n",
    "\n",
    "C = make_spd_matrix(ndim)\n",
    "plt.imshow(C)\n",
    "plt.colorbar()\n",
    "plt.show()\n",
    "\n",
    "icov = np.linalg.inv(C)\n",
    "\n",
    "mu = np.random.rand(ndim)\n",
    "\n",
    "def log_prob(x, mu, icov):\n",
    "    return -0.5 * np.dot(np.dot((x-mu).T,icov),(x-mu))\n",
    "\n",
    "start = np.random.randn(nwalkers, ndim)"
   ]
  },
  {
   "cell_type": "code",
   "execution_count": 13,
   "metadata": {},
   "outputs": [
    {
     "name": "stderr",
     "output_type": "stream",
     "text": [
      "Initialising ensemble of 30 walkers...\n",
      "Sampling progress : 100%|██████████| 5000/5000 [00:10<00:00, 464.73it/s]\n"
     ]
    }
   ],
   "source": [
    "sampler = zeus.EnsembleSampler(nwalkers, ndim, log_prob, args=[mu, icov])\n",
    "sampler.run_mcmc(start, nsteps)"
   ]
  },
  {
   "cell_type": "code",
   "execution_count": null,
   "metadata": {},
   "outputs": [],
   "source": []
  }
 ],
 "metadata": {
  "kernelspec": {
   "display_name": "Python 3",
   "language": "python",
   "name": "python3"
  },
  "language_info": {
   "codemirror_mode": {
    "name": "ipython",
    "version": 3
   },
   "file_extension": ".py",
   "mimetype": "text/x-python",
   "name": "python",
   "nbconvert_exporter": "python",
   "pygments_lexer": "ipython3",
   "version": "3.8.3"
  }
 },
 "nbformat": 4,
 "nbformat_minor": 4
}
